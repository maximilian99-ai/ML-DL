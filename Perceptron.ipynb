{
 "cells": [
  {
   "cell_type": "code",
   "execution_count": 1,
   "metadata": {},
   "outputs": [
    {
     "data": {
      "text/plain": [
       "(0, 0, 0, 1)"
      ]
     },
     "execution_count": 1,
     "metadata": {},
     "output_type": "execute_result"
    }
   ],
   "source": [
    "# 단층 퍼셉트론 이용하면 AND NAND OR 게이트를 쉽게 구현 가능 \n",
    "# AND 게이트 구현 \n",
    "\n",
    "# AND 게이트의 경우에는 두 개의 입력 값이 모두 1인 경우만 output 1 아닌 경우는 0 \n",
    "# input : x1 , x2 / output : y \n",
    "\n",
    "# x1 = 0 , 0 , 1 , 1 \n",
    "# x2 = 0 , 1 , 0 , 1 \n",
    "# y  = 0 , 0 , 0 , 1 \n",
    "\n",
    "\n",
    "# AND 게이트를 만족하는 두 개의 가중치와 편향 값에는 뭐가 있는가 ?!\n",
    "# w1 , w2 , b 라고 한다면 (W : 가중치 B 편향 값)\n",
    "# 다양한 가중치와 편향의 조합이 나올수 있다.\n",
    "# ex) [0.5, 0.5, -0.7] [0.5, 0.5, -0.8] [1.0 , 1.0 , -1.0]\n",
    "\n",
    "def AND_gate(x1, x2):\n",
    "    w1 = 0.5\n",
    "    w2 = 0.5\n",
    "    b = -0.7\n",
    "    \n",
    "    result = x1 * w1 + x2 * w2 + b # 단층 퍼셉트론 공식 = y\n",
    "    \n",
    "    if result <= 0:\n",
    "        return 0\n",
    "    else:\n",
    "        return 1\n",
    "    \n",
    "# x1 = 0, 0, 1, 1\n",
    "# x2 = 0, 1, 0, 1\n",
    "# reuslt y = 0 , 0 , 0 , 1\n",
    "    \n",
    "AND_gate(0,0) , AND_gate(0,1) , AND_gate(1,0) , AND_gate(1,1)"
   ]
  },
  {
   "cell_type": "code",
   "execution_count": 2,
   "metadata": {},
   "outputs": [
    {
     "data": {
      "text/plain": [
       "(1, 1, 1, 0)"
      ]
     },
     "execution_count": 2,
     "metadata": {},
     "output_type": "execute_result"
    }
   ],
   "source": [
    "# 단층 퍼셉트론 NAND 게이트 구현 \n",
    "# NAND 게이트 경우 두개의 입력값이 1인 경우에만 출력값이 0 나머지는 쌍에 대해서는 모두 출력값 1\n",
    "\n",
    "def NAND_gate(x1, x2):\n",
    "    w1 = -0.5\n",
    "    w2 = -0.5\n",
    "    b = 0.7\n",
    "    \n",
    "    result = x1 * w1 + x2 * w2 + b # 단층 퍼셉트론 공식 = y\n",
    "    \n",
    "    if result <= 0:\n",
    "        return 0\n",
    "    else:\n",
    "        return 1\n",
    "    \n",
    "# x1 = 0, 0, 1, 1\n",
    "# x2 = 0, 1, 0, 1\n",
    "# result y = 1, 1, 1, 0\n",
    "    \n",
    "NAND_gate(0,0) , NAND_gate(0,1) , NAND_gate(1,0) , NAND_gate(1,1)"
   ]
  },
  {
   "cell_type": "code",
   "execution_count": 3,
   "metadata": {},
   "outputs": [
    {
     "data": {
      "text/plain": [
       "(0, 1, 1, 1)"
      ]
     },
     "execution_count": 3,
     "metadata": {},
     "output_type": "execute_result"
    }
   ],
   "source": [
    "# 단층 퍼셉트론 OR_gate(x1, x2): \n",
    "# 두 값이 0, 0 - > 0 , 0 1이나 1 0  -> 1  두값이 서로 다르면 1\n",
    "\n",
    "def OR_gate(x1, x2):\n",
    "    # thinking \n",
    "    # w1 , w2 , b [가중치, 가중치, 편향] 을 줄것인가 생각해보기\n",
    "    w1 = 0.5\n",
    "    w2 = 0.5\n",
    "    b = -0.4\n",
    "    \n",
    "    result = x1 * w1 + x2 * w2 + b # 단층 퍼셉트론 공식 = y\n",
    "    \n",
    "    if result <= 0:\n",
    "        return 0\n",
    "    else:\n",
    "        return 1\n",
    "\n",
    "OR_gate(0,0) , OR_gate(0,1) , OR_gate(1,0) , OR_gate(1,1)"
   ]
  },
  {
   "cell_type": "code",
   "execution_count": null,
   "metadata": {},
   "outputs": [],
   "source": [
    "# 참고 -> XOR 게이트를 구하는 것은 불가능합니다. \n",
    "# XOR 게이트 입력값 두 개가 서로 다른 값을 갖고 있을때만 출력값이 1이 되고 \n",
    "# 입력값이 두 개가 서로 같은 값을 가지면 출력값이 0이 되는 게이트 입니다.\n",
    "# 그 이유는 단층 퍼셉트론은 직선 하나로 두 영역을 나눌 수 있는 문제에 대해서만 구현이 가능하기 때문입니다."
   ]
  },
  {
   "cell_type": "code",
   "execution_count": 4,
   "metadata": {},
   "outputs": [],
   "source": [
    "# 파이토치로 다층 퍼셉트론 구현하기\n",
    "\n",
    "import torch\n",
    "import torch.nn as nn\n",
    "from tqdm.notebook import tqdm\n",
    "\n",
    "# GPU 연산이 가능하다면 Random seed \n",
    "\n",
    "# GPU가 사용가능한 여부 파악 test code\n",
    "device = 'cuda' if torch.cuda.is_available() else 'cpu'\n",
    "\n",
    "torch.manual_seed(777)\n",
    "\n",
    "if device == 'cuda' :\n",
    "    torch.cuda.manual_seed_all(777)\n",
    "    \n",
    "# XOR 문제를 풀기 위한 입력과 출력을 정의 \n",
    "# x = torch.FloatTensor([[0, 0], [0, 1], [1, 0], [1, 1]]).to(device)\n",
    "# y = torch.FloatTensor([[0] , [1], [1], [0]]).to(device)\n",
    "\n",
    "# cpu test code\n",
    "x = [[0, 0], [0, 1], [1, 0], [1, 1]]\n",
    "y = [[0], [1], [1], [0]]\n",
    "\n",
    "x = torch.tensor(x, dtype = torch.float32)\n",
    "y = torch.tensor(y, dtype = torch.float32)\n",
    "\n",
    "# 참고 \n",
    "# CrossEntropy 경우에는 마지막 레이어 노드수가 2개 이상이여야 한다.\n",
    "# 만약 마지막 층에 1개 output 이라면 BCELoss를 사용할때가 있다.\n",
    "# BCELoss 함수를 사용할 경우에는 먼저 마지막 레이어의 값이 0~1로 조정을 해줘야한다.\n",
    "# 따라서 BCELoss 함수를 쓸땐 마지막 레이어를 시그모이드 함수를 적용시켜야함 !! \n",
    "\n",
    "# 이제 다층 퍼셉트론을 설계합니다. 아래는 입력층 , 은닉층1 은닉층2 은닉층3 출력층 을 가지는 은닉층이 3개인 인공 신경망\n",
    "# CPU\n",
    "model = nn. Sequential(\n",
    "    nn.Linear(2, 10, bias = True), # input_layer = 2 hidden_layer1 = 10\n",
    "    nn.Sigmoid(),\n",
    "    nn.Linear(10, 10, bias = True), # hidden_layer1 = 10 hidden_layer2 = 10\n",
    "    nn.Sigmoid(),\n",
    "    nn.Linear(10, 10, bias = True), # hidden_layer2 = 10 hidden_layer3 = 10\n",
    "    nn.Sigmoid(),\n",
    "    nn.Linear(10, 1, bias = True), # hidden_layer3 output_layer = 1\n",
    "    # 우리가 사용할 Loss가 BCELoss 이므로 마지막 레이어를 시그모이드 함수를 적용\n",
    "    nn.Sigmoid(),\n",
    ").to(device)"
   ]
  },
  {
   "cell_type": "code",
   "execution_count": 5,
   "metadata": {},
   "outputs": [],
   "source": [
    "criterion = torch.nn.BCELoss()\n",
    "optimizer = torch.optim.SGD(model.parameters(), lr = 0.1) # modified learning rate from 0.1 to 1"
   ]
  },
  {
   "cell_type": "code",
   "execution_count": 6,
   "metadata": {},
   "outputs": [
    {
     "data": {
      "application/vnd.jupyter.widget-view+json": {
       "model_id": "ca93166cea704b94bc68b8651379a1bc",
       "version_major": 2,
       "version_minor": 0
      },
      "text/plain": [
       "HBox(children=(FloatProgress(value=0.0, max=10001.0), HTML(value='')))"
      ]
     },
     "metadata": {},
     "output_type": "display_data"
    },
    {
     "name": "stdout",
     "output_type": "stream",
     "text": [
      "0 0.6948983669281006\n",
      "100 0.6931580305099487\n",
      "200 0.6931577920913696\n",
      "300 0.6931574940681458\n",
      "400 0.6931572556495667\n",
      "500 0.6931570172309875\n",
      "600 0.6931567192077637\n",
      "700 0.6931565403938293\n",
      "800 0.6931562423706055\n",
      "900 0.6931560635566711\n",
      "1000 0.693155825138092\n",
      "1100 0.6931555271148682\n",
      "1200 0.6931553483009338\n",
      "1300 0.6931551098823547\n",
      "1400 0.6931549310684204\n",
      "1500 0.6931546926498413\n",
      "1600 0.6931544542312622\n",
      "1700 0.6931542158126831\n",
      "1800 0.693153977394104\n",
      "1900 0.6931537389755249\n",
      "2000 0.6931535005569458\n",
      "2100 0.6931533217430115\n",
      "2200 0.6931531429290771\n",
      "2300 0.693152904510498\n",
      "2400 0.693152666091919\n",
      "2500 0.6931524276733398\n",
      "2600 0.6931522488594055\n",
      "2700 0.6931519508361816\n",
      "2800 0.6931517720222473\n",
      "2900 0.693151593208313\n",
      "3000 0.6931514143943787\n",
      "3100 0.6931511163711548\n",
      "3200 0.6931509375572205\n",
      "3300 0.6931507587432861\n",
      "3400 0.693150520324707\n",
      "3500 0.6931503415107727\n",
      "3600 0.6931501626968384\n",
      "3700 0.6931499242782593\n",
      "3800 0.693149745464325\n",
      "3900 0.6931494474411011\n",
      "4000 0.6931493282318115\n",
      "4100 0.6931490898132324\n",
      "4200 0.6931489109992981\n",
      "4300 0.6931487321853638\n",
      "4400 0.6931484937667847\n",
      "4500 0.6931483745574951\n",
      "4600 0.6931480765342712\n",
      "4700 0.6931479573249817\n",
      "4800 0.6931477189064026\n",
      "4900 0.6931474804878235\n",
      "5000 0.6931473612785339\n",
      "5100 0.6931471228599548\n",
      "5200 0.6931469440460205\n",
      "5300 0.6931467056274414\n",
      "5400 0.6931465864181519\n",
      "5500 0.6931463479995728\n",
      "5600 0.6931461095809937\n",
      "5700 0.6931459903717041\n",
      "5800 0.693145751953125\n",
      "5900 0.6931455731391907\n",
      "6000 0.6931453943252563\n",
      "6100 0.693145215511322\n",
      "6200 0.6931450366973877\n",
      "6300 0.6931448578834534\n",
      "6400 0.6931446194648743\n",
      "6500 0.6931444406509399\n",
      "6600 0.6931442618370056\n",
      "6700 0.6931440234184265\n",
      "6800 0.6931438446044922\n",
      "6900 0.6931436657905579\n",
      "7000 0.6931435465812683\n",
      "7100 0.6931433081626892\n",
      "7200 0.6931431293487549\n",
      "7300 0.6931429505348206\n",
      "7400 0.6931427717208862\n",
      "7500 0.6931425929069519\n",
      "7600 0.6931423544883728\n",
      "7700 0.6931421756744385\n",
      "7800 0.6931420564651489\n",
      "7900 0.6931418180465698\n",
      "8000 0.6931416392326355\n",
      "8100 0.6931414604187012\n",
      "8200 0.6931413412094116\n",
      "8300 0.6931410431861877\n",
      "8400 0.6931408643722534\n",
      "8500 0.6931407451629639\n",
      "8600 0.6931405663490295\n",
      "8700 0.6931403875350952\n",
      "8800 0.6931401491165161\n",
      "8900 0.6931399703025818\n",
      "9000 0.6931397914886475\n",
      "9100 0.6931395530700684\n",
      "9200 0.6931394338607788\n",
      "9300 0.6931391954421997\n",
      "9400 0.6931390762329102\n",
      "9500 0.6931388974189758\n",
      "9600 0.6931387186050415\n",
      "9700 0.6931384801864624\n",
      "9800 0.6931383609771729\n",
      "9900 0.6931381225585938\n",
      "10000 0.6931380033493042\n",
      "\n"
     ]
    }
   ],
   "source": [
    "# 10000번의 에포크를 수행합니다. 각 에포크 마다 역전파가 수행된다고 보시면됩니다.\n",
    "\n",
    "for epoch in tqdm(range(10001)):\n",
    "    # 설명 필요\n",
    "    optimizer.zero_grad()\n",
    "    \n",
    "    # forward 연산\n",
    "    hypothesis = model(x)\n",
    "    \n",
    "    loss = criterion(hypothesis, y)\n",
    "    loss.backward()\n",
    "    optimizer.step()\n",
    "    \n",
    "    # 100의 배수에 해댕되는 에포크 마다 loss print\n",
    "    if epoch % 100 == 0:\n",
    "        print(epoch, loss.item()) # loss print test code"
   ]
  },
  {
   "cell_type": "code",
   "execution_count": 7,
   "metadata": {},
   "outputs": [
    {
     "name": "stdout",
     "output_type": "stream",
     "text": [
      "모델의 출력값 Hypothesis \n",
      " [[0.5000809 ]\n",
      " [0.4999472 ]\n",
      " [0.5000982 ]\n",
      " [0.49994618]]\n",
      "모델의 예측값 Predicted \n",
      " [[0.5000809 ]\n",
      " [0.4999472 ]\n",
      " [0.5000982 ]\n",
      " [0.49994618]]\n",
      "실제값(Y) \n",
      " [[0.]\n",
      " [1.]\n",
      " [1.]\n",
      " [0.]]\n",
      "정확도(Accuracy) 0.5\n"
     ]
    }
   ],
   "source": [
    "# 학습된 다층 퍼셉트론의 예측값 확인하기\n",
    "with torch.no_grad():\n",
    "    hypothesis = model(x)\n",
    "    predicted = (hypothesis > 0.5).float()\n",
    "    acc = (predicted == y).float().mean()\n",
    "    print('모델의 출력값 Hypothesis \\n', hypothesis.detach().cpu().numpy())\n",
    "    print('모델의 예측값 Predicted \\n', hypothesis.detach().cpu().numpy())\n",
    "    print('실제값(Y) \\n', y.cpu().numpy())\n",
    "    print('정확도(Accuracy)', acc.item())\n",
    "    \n",
    "# 실제값은 0, 1, 1, 0이며 예측값은 0, 1, 1, 0으로 문제를 해결하는 모습을 보여줍니다."
   ]
  },
  {
   "cell_type": "code",
   "execution_count": 8,
   "metadata": {},
   "outputs": [
    {
     "data": {
      "text/plain": [
       "(0, 1, 1, 0)"
      ]
     },
     "execution_count": 8,
     "metadata": {},
     "output_type": "execute_result"
    }
   ],
   "source": [
    "# 다층 퍼셉트론을 이용한 XOR_gate 구현 \n",
    "\n",
    "import numpy as np\n",
    "\n",
    "def AND_gate(x1, x2):\n",
    "    x = np.array([x1, x2])\n",
    "    w = np.array([0.5, 0.5])\n",
    "    b = -0.7\n",
    "    tmp = np.sum(w*x)+b\n",
    "    if tmp <= 0:\n",
    "        return 0\n",
    "    else:\n",
    "        return 1\n",
    "    \n",
    "def NAND_gate(x1, x2):\n",
    "    x = np.array([x1, x2])\n",
    "    w = np.array([-0.5, -0.5])\n",
    "    b = 0.7\n",
    "    tmp = np.sum(w*x)+b\n",
    "    if tmp <= 0:\n",
    "        return 0\n",
    "    else:\n",
    "        return 1\n",
    "    \n",
    "def OR_gate(x1, x2):\n",
    "    x = np.array([x1, x2])\n",
    "    w = np.array([0.5, 0.5])\n",
    "    b = -0.2\n",
    "    tmp = np.sum(w*x)+b\n",
    "    if tmp <= 0:\n",
    "        return 0\n",
    "    else:\n",
    "        return 1\n",
    "    \n",
    "def XOR_gate(x1, x2):\n",
    "    s1 = NAND_gate(x1, x2)\n",
    "    s2 = OR_gate(x1, x2)\n",
    "    y = AND_gate(s1, s2)\n",
    "    return y\n",
    "\n",
    "XOR_gate(0, 0), XOR_gate(0, 1), XOR_gate(1, 0), XOR_gate(1, 1)"
   ]
  },
  {
   "cell_type": "code",
   "execution_count": 9,
   "metadata": {},
   "outputs": [
    {
     "name": "stdout",
     "output_type": "stream",
     "text": [
      "[[ 0.  0.  5. 13.  9.  1.  0.  0.]\n",
      " [ 0.  0. 13. 15. 10. 15.  5.  0.]\n",
      " [ 0.  3. 15.  2.  0. 11.  8.  0.]\n",
      " [ 0.  4. 12.  0.  0.  8.  8.  0.]\n",
      " [ 0.  5.  8.  0.  0.  9.  8.  0.]\n",
      " [ 0.  4. 11.  0.  1. 12.  7.  0.]\n",
      " [ 0.  2. 14.  5. 10. 12.  0.  0.]\n",
      " [ 0.  0.  6. 13. 10.  0.  0.  0.]]\n"
     ]
    }
   ],
   "source": [
    "# 다중 퍼셉트론으로 손글씨 분류 \n",
    "# 다층 퍼셉트론 구현하고 딥 러닝을 통해서 숫자 필기 데이터를 분류 \n",
    "# 사이킷런 패키지에서 제공하는 분류용 예제 데이터를 이용 \n",
    "# 0 ~ 9 까지의 숫자를 손으로 쓴 이미지 데이터로 load_digits() 명령으로 로드 \n",
    "# 각 image 사이즈 8 * 8 = 64 픽셀 해상도의 흑백 이미지 , 이미지 갯수 : 1,797개\n",
    "\n",
    "import matplotlib.pyplot as plt # python as 애칭 (시각화 라이브러리)\n",
    "from sklearn.datasets import load_digits\n",
    "\n",
    "digits = load_digits() # 1,979개 이미지 데이터 로드\n",
    "\n",
    "# 첫번째 샘플을 출력 .images[인덱스]를 사용하면 해당 인덱스 이미지 행렬로서 출력가능\n",
    "# 8 x 8 행렬 출력 \n",
    "# 0을 흰색 도화지 , 0보다 큰 숫자들을 검정색으로 상상해보면 숫자 0에 실루엣처럼 보임\n",
    "print(digits.images[0])"
   ]
  },
  {
   "cell_type": "code",
   "execution_count": 10,
   "metadata": {},
   "outputs": [
    {
     "name": "stdout",
     "output_type": "stream",
     "text": [
      "0\n",
      "전체 샘플의 수: 1797\n"
     ]
    }
   ],
   "source": [
    "# 실제로 레이블도 숫자 0 인지 첫번째 샘플레이어 확인\n",
    "print(digits.target[0])\n",
    "\n",
    "# 실제 셈플의 레이블이 몇개인지 확인 \n",
    "# len() 함수를 이용하여 전체 이미지 갯수를 파악한다.\n",
    "print(\"전체 샘플의 수:\", len(digits.images))"
   ]
  },
  {
   "cell_type": "code",
   "execution_count": 11,
   "metadata": {},
   "outputs": [
    {
     "data": {
      "image/png": "[encoded data removed]",
      "text/plain": [
       "<Figure size 432x288 with 4 Axes>"
      ]
     },
     "metadata": {
      "needs_background": "light"
     },
     "output_type": "display_data"
    }
   ],
   "source": [
    "# 상위 5개만 샘플이미지를 확인\n",
    "# zip 설명 images 와 target 을 하나로 묶기 위한것 \n",
    "\"\"\"\n",
    " image = [1, 2, 3, 4]\n",
    " label = [사과, 자몽, 바나나, 수박]\n",
    " list(zip(images, label))\n",
    " 1 사과 , 2 자몽 3 바나나 4 수박 \n",
    "\"\"\"\n",
    "images_and_lables = list(zip(digits.images, digits.target))\n",
    "\n",
    "# enumerate 설명이 필요 \n",
    "# 이미지 시각화\n",
    "for index, (image, label) in enumerate(images_and_lables[:4]):\n",
    "    plt.subplot(2, 5, index + 1) # input (이미지 target, 보여줄 이미지 갯수, 반복 )\n",
    "    plt.axis('off')\n",
    "    plt.imshow(image, cmap=plt.cm.gray_r, interpolation='nearest')\n",
    "    plt.title('sample: %i' % label)"
   ]
  },
  {
   "cell_type": "code",
   "execution_count": 12,
   "metadata": {},
   "outputs": [
    {
     "name": "stdout",
     "output_type": "stream",
     "text": [
      "0 번 index sample label:  0\n",
      "1 번 index sample label:  1\n",
      "2 번 index sample label:  2\n",
      "3 번 index sample label:  3\n",
      "4 번 index sample label:  4\n"
     ]
    }
   ],
   "source": [
    "# 상위 5개의 레이블 확인 \n",
    "# range 설명필요\n",
    "for i in range(5):\n",
    "    # label test print code\n",
    "    print(i, \"번 index sample label: \", digits.target[i])"
   ]
  },
  {
   "cell_type": "code",
   "execution_count": 13,
   "metadata": {},
   "outputs": [
    {
     "name": "stdout",
     "output_type": "stream",
     "text": [
      "[ 0.  0.  5. 13.  9.  1.  0.  0.  0.  0. 13. 15. 10. 15.  5.  0.  0.  3.\n",
      " 15.  2.  0. 11.  8.  0.  0.  4. 12.  0.  0.  8.  8.  0.  0.  5.  8.  0.\n",
      "  0.  9.  8.  0.  0.  4. 11.  0.  1. 12.  7.  0.  0.  2. 14.  5. 10. 12.\n",
      "  0.  0.  0.  0.  6. 13. 10.  0.  0.  0.]\n"
     ]
    }
   ],
   "source": [
    "# 이제 훈련 데이터 와 레이블을 각 x y 저장 \n",
    "# images sample 8x8 행렬로 저장 \n",
    "\n",
    "# digits.data 를 사용 8x8 -> 64차원의 백터로 변환해서 저장한 상태\n",
    "\n",
    "# data test print code\n",
    "# 64차원의 백터로 저장된것을 확인\n",
    "print(digits.data[0])\n",
    "\n",
    "x = digits.data # 이미지\n",
    "y = digits.target # 각 이미지 레이블"
   ]
  },
  {
   "cell_type": "code",
   "execution_count": 14,
   "metadata": {},
   "outputs": [
    {
     "name": "stdout",
     "output_type": "stream",
     "text": [
      "Epoch    0/100 loss : 2.381843\n",
      "Epoch   10/100 loss : 2.086941\n",
      "Epoch   20/100 loss : 1.844466\n",
      "Epoch   30/100 loss : 1.555474\n",
      "Epoch   40/100 loss : 1.246410\n",
      "Epoch   50/100 loss : 0.968091\n",
      "Epoch   60/100 loss : 0.724377\n",
      "Epoch   70/100 loss : 0.519714\n",
      "Epoch   80/100 loss : 0.380598\n",
      "Epoch   90/100 loss : 0.293386\n"
     ]
    }
   ],
   "source": [
    "# 다층 퍼셉트론 분류기 만들기 \n",
    "\n",
    "# 파이토치 기초 필요 \n",
    "# Loss funtion 등등이 필요\n",
    "\n",
    "import torch\n",
    "import torch.nn as nn\n",
    "from torch import optim\n",
    "\n",
    "model = nn.Sequential (\n",
    "    \n",
    "    nn.Linear(64, 32), # input_layer = 64 hidden_layer1 = 32\n",
    "    nn.ReLU(),\n",
    "    nn.Linear(32, 16), # input_layer = 32 hidden_layer1 = 16\n",
    "    nn.ReLU(),\n",
    "    nn.Linear(16, 10) # input_layer = 16 hidden_layer1 = 10\n",
    "    # CrossEntropyLoss() : output_layer = 2 이상인 경우\n",
    ")\n",
    "\n",
    "x = torch.tensor(x, dtype = torch.float32)\n",
    "y = torch.tensor(y, dtype = torch.int64)\n",
    "\n",
    "loss_fn = nn.CrossEntropyLoss() # 이 함수는 소프트맥스 함수를 포함\n",
    "\n",
    "optimizer = optim.Adam(model.parameters())\n",
    "\n",
    "losses = []\n",
    "\n",
    "for epoch in range(100):\n",
    "    optimizer.zero_grad()\n",
    "    y_pred = model(x)\n",
    "    loss = loss_fn(y_pred, y)\n",
    "    loss.backward()\n",
    "    optimizer.step()\n",
    "    \n",
    "    if epoch % 10 == 0:\n",
    "        print('Epoch {:4d}/{} loss : {:.6f}'.format(epoch, 100, loss.item())) # train print code\n",
    "        \n",
    "    losses.append(loss.item()) # append 설명"
   ]
  },
  {
   "cell_type": "code",
   "execution_count": 15,
   "metadata": {},
   "outputs": [
    {
     "data": {
      "text/plain": [
       "[<matplotlib.lines.Line2D at 0x1f610b99848>]"
      ]
     },
     "execution_count": 15,
     "metadata": {},
     "output_type": "execute_result"
    },
    {
     "data": {
      "image/png": "[encoded data removed]",
      "text/plain": [
       "<Figure size 432x288 with 1 Axes>"
      ]
     },
     "metadata": {
      "needs_background": "light"
     },
     "output_type": "display_data"
    }
   ],
   "source": [
    "plt.title('losses')\n",
    "plt.plot(losses)"
   ]
  }
 ],
 "metadata": {
  "kernelspec": {
   "display_name": "Python 3",
   "language": "python",
   "name": "python3"
  },
  "language_info": {
   "codemirror_mode": {
    "name": "ipython",
    "version": 3
   },
   "file_extension": ".py",
   "mimetype": "text/x-python",
   "name": "python",
   "nbconvert_exporter": "python",
   "pygments_lexer": "ipython3",
   "version": "3.9.2"
  }
 },
 "nbformat": 4,
 "nbformat_minor": 4
}
